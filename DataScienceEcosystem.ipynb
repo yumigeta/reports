{
 "cells": [
  {
   "cell_type": "markdown",
   "id": "ac2f0118",
   "metadata": {},
   "source": [
    "# Data Science Tools and Econystem"
   ]
  },
  {
   "cell_type": "markdown",
   "id": "04535b0a",
   "metadata": {},
   "source": [
    "In this notebook, Data Science Toolds and Ecosystem are summarized."
   ]
  },
  {
   "cell_type": "markdown",
   "id": "9d24d1b6",
   "metadata": {},
   "source": [
    "__Objectives__:\n",
    "- List popular languages for Data Science.\n",
    "- List commonly used libraries used by Data Scientist.\n",
    "- Write an expression that multiply and add numbers."
   ]
  },
  {
   "cell_type": "markdown",
   "id": "3d4fbf79",
   "metadata": {},
   "source": [
    "Some of the popular languages that Data Scientists use are:\n",
    "1. Python\n",
    "2. R\n",
    "3. SQL\n",
    "4. Java\n",
    "5. Julia"
   ]
  },
  {
   "cell_type": "markdown",
   "id": "8990d93c",
   "metadata": {},
   "source": [
    "Some of the commonly used libraries used by Data Scientists include:\n",
    "1. TensorFlow\n",
    "2. NumPy\n",
    "3. SciPy\n",
    "4. Pandas\n",
    "5. Matplotlib"
   ]
  },
  {
   "cell_type": "markdown",
   "id": "99697bf4",
   "metadata": {},
   "source": [
    "### Below are a few examples of evaluating arithmetic expressions in Python"
   ]
  },
  {
   "cell_type": "code",
   "execution_count": 3,
   "id": "71e940de",
   "metadata": {},
   "outputs": [
    {
     "data": {
      "text/plain": [
       "17"
      ]
     },
     "execution_count": 3,
     "metadata": {},
     "output_type": "execute_result"
    }
   ],
   "source": [
    "# This a simple arithmetic expression to mutiply then add integers.\n",
    "(3*4)+5"
   ]
  },
  {
   "cell_type": "code",
   "execution_count": 4,
   "id": "ad715284",
   "metadata": {},
   "outputs": [
    {
     "data": {
      "text/plain": [
       "3.3333333333333335"
      ]
     },
     "execution_count": 4,
     "metadata": {},
     "output_type": "execute_result"
    }
   ],
   "source": [
    "# This will convert 200 minutes to hours by diving by 60.\n",
    "200/60"
   ]
  },
  {
   "cell_type": "markdown",
   "id": "70189d64",
   "metadata": {},
   "source": [
    "## Author\n",
    "Kentaro Yumigeta"
   ]
  },
  {
   "cell_type": "code",
   "execution_count": null,
   "id": "75cc763a",
   "metadata": {},
   "outputs": [],
   "source": []
  }
 ],
 "metadata": {
  "kernelspec": {
   "display_name": "Python 3 (ipykernel)",
   "language": "python",
   "name": "python3"
  },
  "language_info": {
   "codemirror_mode": {
    "name": "ipython",
    "version": 3
   },
   "file_extension": ".py",
   "mimetype": "text/x-python",
   "name": "python",
   "nbconvert_exporter": "python",
   "pygments_lexer": "ipython3",
   "version": "3.10.9"
  }
 },
 "nbformat": 4,
 "nbformat_minor": 5
}
